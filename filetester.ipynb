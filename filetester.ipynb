{
 "cells": [
  {
   "cell_type": "code",
   "execution_count": null,
   "metadata": {},
   "outputs": [],
   "source": [
    "import os\n",
    "import pandas as pd\n",
    "\n",
    "def get_file_sizes(directory='./DATA'):\n",
    "    file_sizes = []\n",
    "    for dirpath, dirnames, filenames in os.walk(directory):\n",
    "        for f in filenames:\n",
    "            fp = os.path.join(dirpath, f)\n",
    "            size = os.path.getsize(fp)\n",
    "            file_sizes.append((fp, size))\n",
    "    return file_sizes\n",
    "\n"
   ]
  },
  {
   "cell_type": "code",
   "execution_count": null,
   "metadata": {},
   "outputs": [],
   "source": [
    "# Get file sizes\n",
    "sizes = get_file_sizes()\n",
    "\n",
    "# Create a DataFrame\n",
    "df = pd.DataFrame(sizes, columns=['File Path', 'Size (bytes)'])\n",
    "\n",
    "# Sort by size (largest first)\n",
    "df = df.sort_values('Size (bytes)', ascending=False)\n",
    "\n",
    "# Convert size to human-readable format\n",
    "df['Size'] = df['Size (bytes)'].apply(lambda x: f'{x/1024**2:.2f} MB')\n",
    "\n",
    "# Display the DataFrame\n",
    "display(df)\n",
    "\n",
    "# Optional: Save to CSV\n",
    "# df.to_csv('file_sizes.csv', index=False)"
   ]
  }
 ],
 "metadata": {
  "language_info": {
   "name": "python"
  }
 },
 "nbformat": 4,
 "nbformat_minor": 2
}
